{
 "cells": [
  {
   "cell_type": "markdown",
   "metadata": {},
   "source": [
    "### Name: Jaymo Kim\n",
    "### hw3.py"
   ]
  },
  {
   "cell_type": "code",
   "execution_count": 1,
   "metadata": {},
   "outputs": [],
   "source": [
    "import math\n",
    "import random"
   ]
  },
  {
   "cell_type": "markdown",
   "metadata": {},
   "source": [
    "### Template for Homework 3, exercises 1 -  ###\n",
    "\n",
    "\n",
    "### ********** Exercise 1 **********\n",
    "\n",
    "##### Define is_divisible function here\n",
    "##### YOUR CODE HERE #####"
   ]
  },
  {
   "cell_type": "code",
   "execution_count": 2,
   "metadata": {},
   "outputs": [],
   "source": [
    "def is_divisible(m, n):\n",
    "    if(n == 0):\n",
    "        return(\"Error! You cannot divide by 0!\")\n",
    "    else:\n",
    "        return(m % n == 0)"
   ]
  },
  {
   "cell_type": "markdown",
   "metadata": {},
   "source": [
    "##### Test cases for is_divisible\n",
    "##### Provided for you... uncomment when you're done defining your function"
   ]
  },
  {
   "cell_type": "code",
   "execution_count": 3,
   "metadata": {},
   "outputs": [
    {
     "name": "stdout",
     "output_type": "stream",
     "text": [
      "True\n",
      "False\n",
      "Error! You cannot divide by 0!\n"
     ]
    }
   ],
   "source": [
    "print(is_divisible(10, 5))  # This should return True\n",
    "print(is_divisible(18, 7))  # This should return False\n",
    "print(is_divisible(42, 0))  # What should this return? It gives an error!"
   ]
  },
  {
   "cell_type": "markdown",
   "metadata": {},
   "source": [
    "### ********** Exercise 2 **********\n",
    "\n",
    "#### Define not_equal function here\n",
    "#### YOUR CODE HERE #####"
   ]
  },
  {
   "cell_type": "code",
   "execution_count": 4,
   "metadata": {},
   "outputs": [],
   "source": [
    "def not_equal(a, b):\n",
    "    if(a == b):\n",
    "        return(False)\n",
    "    else:\n",
    "        return(True)"
   ]
  },
  {
   "cell_type": "markdown",
   "metadata": {},
   "source": [
    "#### Test cases for not_equal\n",
    "#### YOUR CODE HERE #####"
   ]
  },
  {
   "cell_type": "code",
   "execution_count": 5,
   "metadata": {},
   "outputs": [
    {
     "name": "stdout",
     "output_type": "stream",
     "text": [
      "True\n",
      "False\n",
      "True\n"
     ]
    }
   ],
   "source": [
    "print(not_equal(\"hi\", \"hello\"))  # This would return True\n",
    "print(not_equal(1004, 1004))  # This would return False\n",
    "print(not_equal(True, False))  # This would return True"
   ]
  },
  {
   "cell_type": "markdown",
   "metadata": {},
   "source": [
    "### ********** Exercise 3 **********\n",
    "\n",
    "#### 1 - multadd function\n",
    "#### YOUR CODE HERE #####"
   ]
  },
  {
   "cell_type": "code",
   "execution_count": 6,
   "metadata": {},
   "outputs": [],
   "source": [
    "def multadd(a ,b, c):\n",
    "    return(a * b + c)"
   ]
  },
  {
   "cell_type": "markdown",
   "metadata": {},
   "source": [
    "#### 2 - Equations\n",
    "#### YOUR CODE HERE #####"
   ]
  },
  {
   "cell_type": "code",
   "execution_count": 7,
   "metadata": {},
   "outputs": [
    {
     "name": "stdout",
     "output_type": "stream",
     "text": [
      "5\n",
      "110\n",
      "2.7\n"
     ]
    }
   ],
   "source": [
    "print(multadd(1, 2, 3))  # This should return 1 * 2 + 3 = 5\n",
    "print(multadd(10, 10, 10))  # This should return 10 * 10 + 10 = 110\n",
    "print(multadd(0.5, 4, 0.7))  # This should return 0.5 * 4 + 0.7 = 2.7"
   ]
  },
  {
   "cell_type": "markdown",
   "metadata": {},
   "source": [
    "#### Test Cases"
   ]
  },
  {
   "cell_type": "code",
   "execution_count": 8,
   "metadata": {},
   "outputs": [
    {
     "name": "stdout",
     "output_type": "stream",
     "text": [
      "sin(pi/4) + cos(pi/4)/2 is:\n",
      "1.0606601717798214\n",
      "ceiling(276/19) + 2 log_7(12) is:\n",
      "17.55397881653925\n"
     ]
    }
   ],
   "source": [
    "angle_test = multadd(0.5, math.cos(multadd(math.pi, 0.25, 0)), math.sin(multadd(math.pi, 0.25, 0)))\n",
    "print(\"sin(pi/4) + cos(pi/4)/2 is:\")\n",
    "print(angle_test)\n",
    "\n",
    "ceiling_test = multadd(2, math.log(12, 7), math.ceil(multadd(276, 1/19, 0)))\n",
    "print(\"ceiling(276/19) + 2 log_7(12) is:\")\n",
    "print(ceiling_test)"
   ]
  },
  {
   "cell_type": "markdown",
   "metadata": {},
   "source": [
    "### ********** Exercise 4 **********\n",
    "\n",
    "#### 1 - rand_divis_3 function\n",
    "#### YOUR CODE HERE #####"
   ]
  },
  {
   "cell_type": "code",
   "execution_count": 9,
   "metadata": {},
   "outputs": [],
   "source": [
    "def rand_divis_3():\n",
    "    ran = random.randint(0, 100)\n",
    "    return(ran % 3 == 0)"
   ]
  },
  {
   "cell_type": "markdown",
   "metadata": {},
   "source": [
    "#### Test Cases\n",
    "#### YOUR CODE HERE #####"
   ]
  },
  {
   "cell_type": "code",
   "execution_count": 10,
   "metadata": {},
   "outputs": [
    {
     "name": "stdout",
     "output_type": "stream",
     "text": [
      "True\n",
      "True\n",
      "True\n",
      "False\n",
      "True\n"
     ]
    }
   ],
   "source": [
    "print(rand_divis_3())\n",
    "print(rand_divis_3())\n",
    "print(rand_divis_3())\n",
    "print(rand_divis_3())\n",
    "print(rand_divis_3())\n",
    "# I hope one of these tests returns True..."
   ]
  }
 ],
 "metadata": {
  "kernelspec": {
   "display_name": "Python 3",
   "language": "python",
   "name": "python3"
  },
  "language_info": {
   "codemirror_mode": {
    "name": "ipython",
    "version": 3
   },
   "file_extension": ".py",
   "mimetype": "text/x-python",
   "name": "python",
   "nbconvert_exporter": "python",
   "pygments_lexer": "ipython3",
   "version": "3.6.5"
  }
 },
 "nbformat": 4,
 "nbformat_minor": 2
}
